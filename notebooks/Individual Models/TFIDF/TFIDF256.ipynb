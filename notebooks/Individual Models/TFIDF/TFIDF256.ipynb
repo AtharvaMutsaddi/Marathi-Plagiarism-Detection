{
 "cells": [
  {
   "cell_type": "code",
   "execution_count": null,
   "metadata": {
    "colab": {
     "base_uri": "https://localhost:8080/"
    },
    "id": "g1iHMg5sdeLd",
    "outputId": "ebe063dd-3120-4766-d929-e40267e1c6d0"
   },
   "outputs": [],
   "source": [
    "!pip install flaml"
   ]
  },
  {
   "cell_type": "code",
   "execution_count": null,
   "metadata": {
    "id": "vgnnxzoBd3XW"
   },
   "outputs": [],
   "source": [
    "import pandas as pd\n",
    "import numpy as np\n",
    "from sklearn.feature_extraction.text import TfidfVectorizer\n",
    "from sklearn.metrics import classification_report, accuracy_score, precision_score, recall_score, f1_score"
   ]
  },
  {
   "cell_type": "code",
   "execution_count": null,
   "metadata": {
    "colab": {
     "base_uri": "https://localhost:8080/",
     "height": 226
    },
    "id": "wJNAMmeIeGiA",
    "outputId": "761cad6e-70e2-48a1-df42-1f000d650f3b"
   },
   "outputs": [],
   "source": [
    "df=pd.read_csv('marathiData.csv')\n",
    "df.head()"
   ]
  },
  {
   "cell_type": "code",
   "execution_count": null,
   "metadata": {
    "id": "YMzc06t1eQKt"
   },
   "outputs": [],
   "source": [
    "def getStopWords():\n",
    "  with open('./stopwords-mr.txt','r') as f:\n",
    "    stopwords=f.read()\n",
    "    stopwords=stopwords.split('\\n')\n",
    "    return stopwords\n",
    "\n",
    "stopWords=getStopWords()\n",
    "\n",
    "stop_words = stopWords\n",
    "suffixes = ['ता', 'ते', 'तो', 'ल', 'ना', 'णे', 'त', 'य']\n",
    "def stem_marathi_word(word):\n",
    "    for suffix in suffixes:\n",
    "        if word.endswith(suffix):\n",
    "            return word[:-len(suffix)]\n",
    "    return word\n",
    "\n",
    "noun_suffixes = ['आणि', 'े', 'ा', 'नी', 'ची', 'मधील', 'हवे', 'ची', 'चा']\n",
    "verb_suffixes = ['त', 'तो', 'ते', 'ली', 'ला', 'ले', 'णार', 'त आहे', 'त असतील']\n",
    "def lemmatize_marathi(word):\n",
    "    # Rule-based stripping of verb suffixes\n",
    "    for suffix in verb_suffixes:\n",
    "        if word.endswith(suffix):\n",
    "            return word[:-len(suffix)]  # Stripping the suffix\n",
    "    # Rule-based stripping of noun suffixes\n",
    "    for suffix in noun_suffixes:\n",
    "        if word.endswith(suffix):\n",
    "            return word[:-len(suffix)]\n",
    "    return word\n",
    "\n",
    "def preprocess_text(text, use_stemming=False, use_lemmatization=False):\n",
    "    # Convert text to lowercase\n",
    "    text = text.lower()\n",
    "\n",
    "    # Remove numbers and special characters\n",
    "    cleaned_text = ''.join(char for char in text if ('\\u0900' <= char <= '\\u097F') or char.isspace())\n",
    "\n",
    "    # Remove stop words\n",
    "    cleaned_text = ' '.join([word for word in cleaned_text.split() if word not in stop_words])\n",
    "\n",
    "    # Apply stemming or lemmatization if specified\n",
    "    if use_stemming:\n",
    "        cleaned_text = ' '.join([stem_marathi_word(word) for word in cleaned_text.split()])\n",
    "    elif use_lemmatization:\n",
    "        cleaned_text = ' '.join([lemmatize_marathi(word) for word in cleaned_text.split()])\n",
    "\n",
    "    return cleaned_text\n",
    "\n",
    "df['translated_source'] = df['translated_source'].apply(lambda x: preprocess_text(x))\n",
    "df['translated_plagiarism'] = df['translated_plagiarism'].apply(lambda x: preprocess_text(x))\n",
    "df['stemmed_srcText']= df['translated_source'].apply(lambda x: preprocess_text(x,use_stemming=True, use_lemmatization=True))\n",
    "df['stemmed_plagText']=df['translated_plagiarism'].apply(lambda x: preprocess_text(x,use_stemming=True, use_lemmatization=True))"
   ]
  },
  {
   "cell_type": "code",
   "execution_count": null,
   "metadata": {
    "colab": {
     "base_uri": "https://localhost:8080/",
     "height": 444
    },
    "id": "jfkKlBa5eT3X",
    "outputId": "ec8ebcc8-b0b3-404c-8a7d-5bd404cf9200"
   },
   "outputs": [],
   "source": [
    "df"
   ]
  },
  {
   "cell_type": "code",
   "execution_count": null,
   "metadata": {
    "id": "H4CJ4HP2eWvw"
   },
   "outputs": [],
   "source": [
    "tfidf_vectorizer256 = TfidfVectorizer(max_features=256)"
   ]
  },
  {
   "cell_type": "code",
   "execution_count": null,
   "metadata": {
    "id": "fpfZkboxea-H"
   },
   "outputs": [],
   "source": [
    "tfidf_embeddings_source256 = tfidf_vectorizer256.fit_transform(df['stemmed_srcText'].tolist()).toarray()\n",
    "tfidf_embeddings_plag256=tfidf_vectorizer256.fit_transform(df['stemmed_plagText'].tolist()).toarray()\n",
    "\n",
    "tfidf_embeddings256 = tfidf_embeddings_source256 - tfidf_embeddings_plag256"
   ]
  },
  {
   "cell_type": "code",
   "execution_count": null,
   "metadata": {
    "id": "3Mx9xA8Ohh2e"
   },
   "outputs": [],
   "source": [
    "from sklearn.model_selection import train_test_split\n",
    "from sklearn.preprocessing import StandardScaler\n",
    "\n",
    "X_train256, X_test256, y_train256, y_test256 = train_test_split(\n",
    "    tfidf_embeddings256, df['label'], test_size=0.2, random_state=42, stratify=df['label']\n",
    ")\n",
    "\n",
    "scaler = StandardScaler()\n",
    "\n",
    "X_train256 = scaler.fit_transform(X_train256)\n",
    "X_test256 = scaler.transform(X_test256)"
   ]
  },
  {
   "cell_type": "markdown",
   "metadata": {
    "id": "lmMf1NDsgDjf"
   },
   "source": [
    "# **XGBOOST**"
   ]
  },
  {
   "cell_type": "code",
   "execution_count": null,
   "metadata": {
    "colab": {
     "base_uri": "https://localhost:8080/"
    },
    "collapsed": true,
    "id": "mytgUO2QgCpu",
    "outputId": "f4ab6fc9-b602-49bf-cfec-3105491dc227"
   },
   "outputs": [],
   "source": [
    "from flaml import AutoML\n",
    "from sklearn.metrics import accuracy_score, precision_score, recall_score, f1_score, confusion_matrix\n",
    "\n",
    "# Initialize the FLAML AutoML instance\n",
    "automl = AutoML()\n",
    "\n",
    "# Set the training parameters\n",
    "automl_settings = {\n",
    "    \"time_budget\": 1000,  # Total running time in seconds\n",
    "    \"metric\": 'accuracy',  # Evaluation metric\n",
    "    \"task\": 'classification',  # Task type\n",
    "    \"n_jobs\": -1,\n",
    "    \"estimator_list\": [\"xgboost\"],\n",
    "    \"early_stop\": True\n",
    "\n",
    "}\n",
    "\n",
    "# Fit the FLAML AutoML instance on the training data\n",
    "automl.fit(X_train256, y_train256, **automl_settings)\n",
    "\n",
    "# Display the best model found\n",
    "print(\"Best model:\", automl.best_estimator)\n",
    "\n",
    "# Predictions on the test set\n",
    "y_test_pred = automl.predict(X_test256)\n",
    "\n",
    "# Calculate metrics for the test set\n",
    "metrics_test = {\n",
    "    \"Accuracy\": accuracy_score(y_test256, y_test_pred) * 100,\n",
    "    \"Precision\": precision_score(y_test256, y_test_pred) * 100,\n",
    "    \"Recall\": recall_score(y_test256, y_test_pred) * 100,\n",
    "    \"F1 Score\": f1_score(y_test256, y_test_pred) * 100,\n",
    "    \"Confusion Matrix\": confusion_matrix(y_test256, y_test_pred)\n",
    "}\n",
    "\n",
    "# Display test metrics\n",
    "print(\"\\nTest Set Metrics:\")\n",
    "for metric, value in metrics_test.items():\n",
    "    if metric != \"Confusion Matrix\":\n",
    "        print(f\"{metric}: {value:.2f}%\")\n",
    "    else:\n",
    "        print(f\"{metric}:\\n{value}\")\n"
   ]
  },
  {
   "cell_type": "markdown",
   "metadata": {
    "id": "J5ekAnnwoGo4"
   },
   "source": [
    "# **LGBM**"
   ]
  },
  {
   "cell_type": "code",
   "execution_count": null,
   "metadata": {
    "colab": {
     "base_uri": "https://localhost:8080/"
    },
    "collapsed": true,
    "id": "Gf_lSNvRh1Y-",
    "outputId": "35931ee0-c25d-4cf0-a5e4-28e421435566"
   },
   "outputs": [],
   "source": [
    "from flaml import AutoML\n",
    "from sklearn.metrics import accuracy_score, precision_score, recall_score, f1_score, confusion_matrix\n",
    "\n",
    "# Initialize the FLAML AutoML instance\n",
    "automl = AutoML()\n",
    "\n",
    "# Set the training parameters\n",
    "automl_settings = {\n",
    "    \"time_budget\": 1000,  # Total running time in seconds\n",
    "    \"metric\": 'accuracy',  # Evaluation metric\n",
    "    \"task\": 'classification',  # Task type\n",
    "    \"n_jobs\": -1,\n",
    "    \"estimator_list\": [\"lgbm\"],\n",
    "    \"early_stop\": True\n",
    "\n",
    "}\n",
    "\n",
    "# Fit the FLAML AutoML instance on the training data\n",
    "automl.fit(X_train256, y_train256, **automl_settings)\n",
    "\n",
    "# Display the best model found\n",
    "print(\"Best model:\", automl.best_estimator)\n",
    "\n",
    "# Predictions on the test set\n",
    "y_test_pred = automl.predict(X_test256)\n",
    "\n",
    "# Calculate metrics for the test set\n",
    "metrics_test = {\n",
    "    \"Accuracy\": accuracy_score(y_test256, y_test_pred) * 100,\n",
    "    \"Precision\": precision_score(y_test256, y_test_pred) * 100,\n",
    "    \"Recall\": recall_score(y_test256, y_test_pred) * 100,\n",
    "    \"F1 Score\": f1_score(y_test256, y_test_pred) * 100,\n",
    "    \"Confusion Matrix\": confusion_matrix(y_test256, y_test_pred)\n",
    "}\n",
    "\n",
    "# Display test metrics\n",
    "print(\"\\nTest Set Metrics:\")\n",
    "for metric, value in metrics_test.items():\n",
    "    if metric != \"Confusion Matrix\":\n",
    "        print(f\"{metric}: {value:.2f}%\")\n",
    "    else:\n",
    "        print(f\"{metric}:\\n{value}\")\n"
   ]
  },
  {
   "cell_type": "markdown",
   "metadata": {
    "id": "yFId9C-VtS9G"
   },
   "source": [
    "# **Random Forest**"
   ]
  },
  {
   "cell_type": "code",
   "execution_count": null,
   "metadata": {
    "colab": {
     "base_uri": "https://localhost:8080/"
    },
    "collapsed": true,
    "id": "e8WxSsKRoK2T",
    "outputId": "ba7d1cc0-2473-45f2-95f2-1a47a5fa395e"
   },
   "outputs": [],
   "source": [
    "from flaml import AutoML\n",
    "from sklearn.metrics import accuracy_score, precision_score, recall_score, f1_score, confusion_matrix\n",
    "\n",
    "automl = AutoML()\n",
    "\n",
    "automl_settings = {\n",
    "    \"time_budget\": 1000,  # Total running time in seconds\n",
    "    \"metric\": 'accuracy',  # Evaluation metric\n",
    "    \"task\": 'classification',  # Task type\n",
    "    \"n_jobs\": -1,\n",
    "    \"estimator_list\": [\"rf\"],\n",
    "    \"early_stop\": True\n",
    "\n",
    "}\n",
    "\n",
    "# Fit the FLAML AutoML instance on the training data\n",
    "automl.fit(X_train256, y_train256, **automl_settings)\n",
    "\n",
    "# Display the best model found\n",
    "print(\"Best model:\", automl.best_estimator)\n",
    "\n",
    "# Predictions on the test set\n",
    "y_test_pred = automl.predict(X_test256)\n",
    "\n",
    "# Calculate metrics for the test set\n",
    "metrics_test = {\n",
    "    \"Accuracy\": accuracy_score(y_test256, y_test_pred) * 100,\n",
    "    \"Precision\": precision_score(y_test256, y_test_pred) * 100,\n",
    "    \"Recall\": recall_score(y_test256, y_test_pred) * 100,\n",
    "    \"F1 Score\": f1_score(y_test256, y_test_pred) * 100,\n",
    "    \"Confusion Matrix\": confusion_matrix(y_test256, y_test_pred)\n",
    "}\n",
    "\n",
    "# Display test metrics\n",
    "print(\"\\nTest Set Metrics:\")\n",
    "for metric, value in metrics_test.items():\n",
    "    if metric != \"Confusion Matrix\":\n",
    "        print(f\"{metric}: {value:.2f}%\")\n",
    "    else:\n",
    "        print(f\"{metric}:\\n{value}\")\n"
   ]
  },
  {
   "cell_type": "markdown",
   "metadata": {
    "id": "tG08nPDSyx2m"
   },
   "source": [
    "# **Logistic Regression lrl2**"
   ]
  },
  {
   "cell_type": "code",
   "execution_count": null,
   "metadata": {
    "colab": {
     "base_uri": "https://localhost:8080/"
    },
    "collapsed": true,
    "id": "Px0VkQHEtlZg",
    "outputId": "95e66a09-71e3-4449-a24a-de133ef0253d"
   },
   "outputs": [],
   "source": [
    "from flaml import AutoML\n",
    "from sklearn.metrics import accuracy_score, precision_score, recall_score, f1_score, confusion_matrix\n",
    "\n",
    "automl = AutoML()\n",
    "\n",
    "automl_settings = {\n",
    "    \"time_budget\": 1000,  # Total running time in seconds\n",
    "    \"metric\": 'accuracy',  # Evaluation metric\n",
    "    \"task\": 'classification',  # Task type\n",
    "    \"n_jobs\": -1,\n",
    "    \"estimator_list\": [\"lrl2\"],\n",
    "    \"early_stop\": True\n",
    "\n",
    "}\n",
    "\n",
    "# Fit the FLAML AutoML instance on the training data\n",
    "automl.fit(X_train256, y_train256, **automl_settings)\n",
    "\n",
    "# Display the best model found\n",
    "print(\"Best model:\", automl.best_estimator)\n",
    "\n",
    "# Predictions on the test set\n",
    "y_test_pred = automl.predict(X_test256)\n",
    "\n",
    "# Calculate metrics for the test set\n",
    "metrics_test = {\n",
    "    \"Accuracy\": accuracy_score(y_test256, y_test_pred) * 100,\n",
    "    \"Precision\": precision_score(y_test256, y_test_pred) * 100,\n",
    "    \"Recall\": recall_score(y_test256, y_test_pred) * 100,\n",
    "    \"F1 Score\": f1_score(y_test256, y_test_pred) * 100,\n",
    "    \"Confusion Matrix\": confusion_matrix(y_test256, y_test_pred)\n",
    "}\n",
    "\n",
    "# Display test metrics\n",
    "print(\"\\nTest Set Metrics:\")\n",
    "for metric, value in metrics_test.items():\n",
    "    if metric != \"Confusion Matrix\":\n",
    "        print(f\"{metric}: {value:.2f}%\")\n",
    "    else:\n",
    "        print(f\"{metric}:\\n{value}\")\n"
   ]
  },
  {
   "cell_type": "markdown",
   "metadata": {
    "id": "va7uVoZE4EFk"
   },
   "source": [
    "# **SVC**"
   ]
  },
  {
   "cell_type": "code",
   "execution_count": null,
   "metadata": {
    "colab": {
     "base_uri": "https://localhost:8080/"
    },
    "collapsed": true,
    "id": "t7drBzwTy6UL",
    "outputId": "425ccd3a-723f-4905-9907-92c5a6a1d3b1"
   },
   "outputs": [],
   "source": [
    "from flaml import AutoML\n",
    "from sklearn.metrics import accuracy_score, precision_score, recall_score, f1_score, confusion_matrix\n",
    "\n",
    "automl = AutoML()\n",
    "\n",
    "automl_settings = {\n",
    "    \"time_budget\": 1000,  # Total running time in seconds\n",
    "    \"metric\": 'accuracy',  # Evaluation metric\n",
    "    \"task\": 'classification',  # Task type\n",
    "    \"n_jobs\": -1,\n",
    "    \"estimator_list\": [\"svc\"],\n",
    "    \"early_stop\": True\n",
    "\n",
    "}\n",
    "\n",
    "# Fit the FLAML AutoML instance on the training data\n",
    "automl.fit(X_train256, y_train256, **automl_settings)\n",
    "\n",
    "# Display the best model found\n",
    "print(\"Best model:\", automl.best_estimator)\n",
    "\n",
    "# Predictions on the test set\n",
    "y_test_pred = automl.predict(X_test256)\n",
    "\n",
    "# Calculate metrics for the test set\n",
    "metrics_test = {\n",
    "    \"Accuracy\": accuracy_score(y_test256, y_test_pred) * 100,\n",
    "    \"Precision\": precision_score(y_test256, y_test_pred) * 100,\n",
    "    \"Recall\": recall_score(y_test256, y_test_pred) * 100,\n",
    "    \"F1 Score\": f1_score(y_test256, y_test_pred) * 100,\n",
    "    \"Confusion Matrix\": confusion_matrix(y_test256, y_test_pred)\n",
    "}\n",
    "\n",
    "# Display test metrics\n",
    "print(\"\\nTest Set Metrics:\")\n",
    "for metric, value in metrics_test.items():\n",
    "    if metric != \"Confusion Matrix\":\n",
    "        print(f\"{metric}: {value:.2f}%\")\n",
    "    else:\n",
    "        print(f\"{metric}:\\n{value}\")\n"
   ]
  },
  {
   "cell_type": "markdown",
   "metadata": {
    "id": "tBelH0GkJYYX"
   },
   "source": [
    "# **KNN**"
   ]
  },
  {
   "cell_type": "code",
   "execution_count": null,
   "metadata": {
    "colab": {
     "base_uri": "https://localhost:8080/"
    },
    "collapsed": true,
    "id": "VZloylZc4L1E",
    "outputId": "14a476d9-eea8-418f-b48b-6df4b0cc166c"
   },
   "outputs": [],
   "source": [
    "from flaml import AutoML\n",
    "from sklearn.metrics import accuracy_score, precision_score, recall_score, f1_score, confusion_matrix\n",
    "\n",
    "automl = AutoML()\n",
    "\n",
    "automl_settings = {\n",
    "    \"time_budget\": 1000,  # Total running time in seconds\n",
    "    \"metric\": 'accuracy',  # Evaluation metric\n",
    "    \"task\": 'classification',  # Task type\n",
    "    \"n_jobs\": -1,\n",
    "    \"estimator_list\": [\"kneighbor\"],\n",
    "    \"early_stop\": True\n",
    "\n",
    "}\n",
    "\n",
    "# Fit the FLAML AutoML instance on the training data\n",
    "automl.fit(X_train256, y_train256, **automl_settings)\n",
    "\n",
    "# Display the best model found\n",
    "print(\"Best model:\", automl.best_estimator)\n",
    "\n",
    "# Predictions on the test set\n",
    "y_test_pred = automl.predict(X_test256)\n",
    "\n",
    "# Calculate metrics for the test set\n",
    "metrics_test = {\n",
    "    \"Accuracy\": accuracy_score(y_test256, y_test_pred) * 100,\n",
    "    \"Precision\": precision_score(y_test256, y_test_pred) * 100,\n",
    "    \"Recall\": recall_score(y_test256, y_test_pred) * 100,\n",
    "    \"F1 Score\": f1_score(y_test256, y_test_pred) * 100,\n",
    "    \"Confusion Matrix\": confusion_matrix(y_test256, y_test_pred)\n",
    "}\n",
    "\n",
    "# Display test metrics\n",
    "print(\"\\nTest Set Metrics:\")\n",
    "for metric, value in metrics_test.items():\n",
    "    if metric != \"Confusion Matrix\":\n",
    "        print(f\"{metric}: {value:.2f}%\")\n",
    "    else:\n",
    "        print(f\"{metric}:\\n{value}\")\n"
   ]
  },
  {
   "cell_type": "markdown",
   "metadata": {
    "id": "8QFPjDWSKTMi"
   },
   "source": [
    "# **Naive Bayes**"
   ]
  },
  {
   "cell_type": "code",
   "execution_count": null,
   "metadata": {
    "colab": {
     "base_uri": "https://localhost:8080/"
    },
    "collapsed": true,
    "id": "czpmronMJl0-",
    "outputId": "7b24dc55-d6dd-4b1d-d33e-accf7f9ac741"
   },
   "outputs": [],
   "source": [
    "import numpy as np\n",
    "from sklearn.naive_bayes import GaussianNB\n",
    "from sklearn.model_selection import GridSearchCV\n",
    "from sklearn.metrics import classification_report, accuracy_score, confusion_matrix\n",
    "\n",
    "model = GaussianNB()\n",
    "\n",
    "param_grid = {\n",
    "    'var_smoothing': np.logspace(0, -9, num=100)\n",
    "}\n",
    "\n",
    "grid_search = GridSearchCV(estimator=model, param_grid=param_grid,\n",
    "                           scoring='accuracy', cv=5, verbose=1, n_jobs=-1)\n",
    "\n",
    "grid_search.fit(X_train256, y_train256)\n",
    "\n",
    "best_model = grid_search.best_estimator_\n",
    "print(\"Best Hyperparameters:\", grid_search.best_params_)\n",
    "\n",
    "y_pred = best_model.predict(X_test256)\n",
    "\n",
    "accuracy = accuracy_score(y_test256, y_pred)\n",
    "precision = precision_score(y_test256, y_pred)\n",
    "recall = recall_score(y_test256, y_pred)\n",
    "f1 = f1_score(y_test256, y_pred)\n",
    "conf_matrix = confusion_matrix(y_test256, y_pred)\n",
    "\n",
    "print(\"Accuracy:\", accuracy)\n",
    "print(\"Precision:\", precision)\n",
    "print(\"Recall:\", recall)\n",
    "print(\"F1 Score:\", f1)\n",
    "print(\"Confusion Matrix:\\n\", conf_matrix)"
   ]
  },
  {
   "cell_type": "markdown",
   "metadata": {
    "id": "J3ZmoLZSLWNJ"
   },
   "source": [
    "# **Decision Tree**"
   ]
  },
  {
   "cell_type": "code",
   "execution_count": null,
   "metadata": {
    "colab": {
     "base_uri": "https://localhost:8080/"
    },
    "collapsed": true,
    "id": "ZrmmcJIbLCdp",
    "outputId": "e9b3b602-fc13-4601-fd46-ffed3bf71e0b"
   },
   "outputs": [],
   "source": [
    "import numpy as np\n",
    "from sklearn.tree import DecisionTreeClassifier\n",
    "from sklearn.model_selection import GridSearchCV\n",
    "from sklearn.metrics import classification_report, accuracy_score, confusion_matrix, precision_score, recall_score, f1_score\n",
    "\n",
    "model = DecisionTreeClassifier()\n",
    "\n",
    "# Set up the parameter grid\n",
    "param_grid = {\n",
    "    'max_depth': [None, 5, 10, 15, 20],\n",
    "    'min_samples_split': [2, 5, 10],\n",
    "    'min_samples_leaf': [1, 2, 4],\n",
    "    'max_features': [None, 'sqrt', 'log2'],\n",
    "    'criterion': ['gini', 'entropy']\n",
    "}\n",
    "\n",
    "# Configure Grid Search\n",
    "grid_search = GridSearchCV(estimator=model, param_grid=param_grid,\n",
    "                           scoring='accuracy', cv=5, verbose=1, n_jobs=-1)\n",
    "\n",
    "# Fit the model using your data\n",
    "grid_search.fit(X_train256, y_train256)\n",
    "\n",
    "# Get the best model\n",
    "best_model = grid_search.best_estimator_\n",
    "print(\"Best Hyperparameters:\", grid_search.best_params_)\n",
    "\n",
    "# Predict on the test set\n",
    "y_pred = best_model.predict(X_test256)\n",
    "\n",
    "# Evaluate the model\n",
    "accuracy = accuracy_score(y_test256, y_pred)\n",
    "precision = precision_score(y_test256, y_pred)\n",
    "recall = recall_score(y_test256, y_pred)\n",
    "f1 = f1_score(y_test256, y_pred)\n",
    "conf_matrix = confusion_matrix(y_test256, y_pred)\n",
    "\n",
    "# Print the metrics\n",
    "print(\"Accuracy:\", accuracy)\n",
    "print(\"Precision:\", precision)\n",
    "print(\"Recall:\", recall)\n",
    "print(\"F1 Score:\", f1)\n",
    "print(\"Confusion Matrix:\\n\", conf_matrix)"
   ]
  },
  {
   "cell_type": "markdown",
   "metadata": {
    "id": "uY6x_HlrMmY-"
   },
   "source": [
    "# **AdaBoost**"
   ]
  },
  {
   "cell_type": "code",
   "execution_count": null,
   "metadata": {
    "colab": {
     "base_uri": "https://localhost:8080/"
    },
    "collapsed": true,
    "id": "t-HYTxX0Lb-z",
    "outputId": "7aa13bcd-64da-4147-cb96-833c639f63ed"
   },
   "outputs": [],
   "source": [
    "import numpy as np\n",
    "from sklearn.ensemble import AdaBoostClassifier\n",
    "from sklearn.tree import DecisionTreeClassifier\n",
    "from sklearn.model_selection import GridSearchCV\n",
    "from sklearn.metrics import classification_report, accuracy_score, confusion_matrix, precision_score, recall_score, f1_score\n",
    "\n",
    "# Define the model\n",
    "model = AdaBoostClassifier()\n",
    "\n",
    "# Set up the parameter grid\n",
    "param_grid = {\n",
    "    'n_estimators': [50, 100, 200],\n",
    "    'learning_rate': [0.01, 0.1, 1.0, 10],\n",
    "    'estimator': [DecisionTreeClassifier(max_depth=1), None]  # Decision stump or default estimator\n",
    "}\n",
    "\n",
    "# Configure Grid Search\n",
    "grid_search = GridSearchCV(estimator=model, param_grid=param_grid,\n",
    "                           scoring='accuracy', cv=5, verbose=1, n_jobs=-1)\n",
    "\n",
    "# Fit the model using your data\n",
    "grid_search.fit(X_train256, y_train256)\n",
    "\n",
    "# Get the best model\n",
    "best_model = grid_search.best_estimator_\n",
    "print(\"Best Hyperparameters:\", grid_search.best_params_)\n",
    "\n",
    "# Predict on the test set\n",
    "y_pred = best_model.predict(X_test256)\n",
    "\n",
    "# Evaluate the model\n",
    "accuracy = accuracy_score(y_test256, y_pred)\n",
    "precision = precision_score(y_test256, y_pred)\n",
    "recall = recall_score(y_test256, y_pred)\n",
    "f1 = f1_score(y_test256, y_pred)\n",
    "conf_matrix = confusion_matrix(y_test256, y_pred)\n",
    "\n",
    "# Print the metrics\n",
    "print(\"Accuracy:\", accuracy)\n",
    "print(\"Precision:\", precision)\n",
    "print(\"Recall:\", recall)\n",
    "print(\"F1 Score:\", f1)\n",
    "print(\"Confusion Matrix:\\n\", conf_matrix)"
   ]
  },
  {
   "cell_type": "code",
   "execution_count": null,
   "metadata": {
    "id": "xTpHsohEMWj_"
   },
   "outputs": [],
   "source": []
  }
 ],
 "metadata": {
  "colab": {
   "provenance": []
  },
  "kernelspec": {
   "display_name": "Python 3",
   "name": "python3"
  },
  "language_info": {
   "name": "python"
  }
 },
 "nbformat": 4,
 "nbformat_minor": 0
}
